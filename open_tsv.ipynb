{
 "cells": [
  {
   "cell_type": "code",
   "execution_count": null,
   "metadata": {},
   "outputs": [],
   "source": [
    "import pandas as pd\n",
    "df34d = pd.read_csv(filepath_or_buffer='./tcga/34d1151a-2725-4259-a1d1-2b0027c65b45.rna_seq.augmented_star_gene_counts.tsv', sep='\\t', skiprows=[0, 2, 3, 4, 5])\n",
    "df34d.head()"
   ]
  },
  {
   "cell_type": "code",
   "execution_count": null,
   "metadata": {},
   "outputs": [],
   "source": [
    "df34d[:10]"
   ]
  },
  {
   "cell_type": "code",
   "execution_count": null,
   "metadata": {},
   "outputs": [],
   "source": [
    "df34d.info()"
   ]
  },
  {
   "cell_type": "code",
   "execution_count": null,
   "metadata": {},
   "outputs": [],
   "source": [
    "df64d = pd.read_csv(filepath_or_buffer='./tcga/64dc3324-0550-432b-8237-cee3ca6aa392.rna_seq.augmented_star_gene_counts.tsv', sep='\\t', skiprows=[0,2,3,4,5])\n",
    "df64d.head()"
   ]
  },
  {
   "cell_type": "code",
   "execution_count": null,
   "metadata": {},
   "outputs": [],
   "source": [
    "df64d.info()"
   ]
  },
  {
   "cell_type": "code",
   "execution_count": null,
   "metadata": {},
   "outputs": [],
   "source": [
    "df423 = pd.read_csv(filepath_or_buffer='./tcga/4236c2a3-cd2d-4495-941c-a79315a7522b.rna_seq.augmented_star_gene_counts.tsv', sep='\\t', skiprows=[0,2,3,4,5])\n",
    "df423.head()"
   ]
  },
  {
   "cell_type": "code",
   "execution_count": null,
   "metadata": {},
   "outputs": [],
   "source": [
    "df423.info()"
   ]
  }
 ],
 "metadata": {
  "kernelspec": {
   "display_name": "Python 3",
   "language": "python",
   "name": "python3"
  },
  "language_info": {
   "codemirror_mode": {
    "name": "ipython",
    "version": 3
   },
   "file_extension": ".py",
   "mimetype": "text/x-python",
   "name": "python",
   "nbconvert_exporter": "python",
   "pygments_lexer": "ipython3",
   "version": "3.10.10"
  },
  "orig_nbformat": 4
 },
 "nbformat": 4,
 "nbformat_minor": 2
}
